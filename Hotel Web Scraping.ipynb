{
 "cells": [
  {
   "cell_type": "markdown",
   "metadata": {},
   "source": [
    "# PyDOT Oct 19 2020 Final Project"
   ]
  },
  {
   "cell_type": "markdown",
   "metadata": {},
   "source": [
    "## Name <span style=\"color:blue\"><i>Gao Rui</i></span>"
   ]
  },
  {
   "cell_type": "markdown",
   "metadata": {},
   "source": [
    "## Email <span style=\"color:blue\"><i>simomo.gr@gmail.com</i></span>"
   ]
  },
  {
   "cell_type": "markdown",
   "metadata": {},
   "source": [
    "## Project Name <span style=\"color:blue\"><i>Hotel Reviews</i></span>"
   ]
  },
  {
   "cell_type": "markdown",
   "metadata": {},
   "source": [
    "## Problem Statement\n",
    "\n",
    "<span style=\"color:blue\"><i>Scrap hotel reviews such as overall review score, scores at different aspects, reviews from guests with different attributes to visualize hotel's popularity and compare with other the hotels.</i></span>"
   ]
  },
  {
   "cell_type": "markdown",
   "metadata": {},
   "source": [
    "## Data Source (if any)\n",
    "\n",
    "<span style=\"color:blue\"><i>We first examine guest reviews for one hotel and then extend to comparison between hotels</i></span>\n",
    "\n",
    "Data source: booking.com\n",
    "1. Data source #1 : <https://www.booking.com/hotel/sg/marina-bay-sands.html#tab-reviews> 20k+ reviews\n",
    "2. Data source #2 : <https://www.booking.com/hotel/sg/rasa-sentosa-resort-by-the-shangri-la.html#tab-reviews> 1700+ reviews\n",
    "3. Data source #3 : <https://www.booking.com/hotel/sg/panpacificsingapore.html#tab-reviews> 5000+ reviews"
   ]
  },
  {
   "cell_type": "markdown",
   "metadata": {},
   "source": [
    "# Work breakdown and files"
   ]
  },
  {
   "cell_type": "markdown",
   "metadata": {},
   "source": [
    "## Data Scraping and Wrangling\n",
    "1. Given one hotel, collect ratings about `['Hotel', 'URL', 'Reviews', 'Overall Score', 'Staff', 'Cleanliness', 'Comfort', 'Value for money', 'Location', 'Free WiFi']`\n",
    "2. Extract customer reviews with their attributes: `['Name', 'Origin', 'RoomType', 'StayTime', 'ReviewTime', 'ReviewScore', 'Liked', 'Disliked']`\n",
    "3. Extract customer reviews/attributes based on their **review type**: ['Families', 'Couples', 'Groups', 'Solo', 'Business'] (duplicates can be seen by <code>df.sort_values(by=['Name', 'Origin', 'RoomtType', 'StayTime', 'ReviewScore'])</code>\n",
    "4. Save to .csv files \n",
    "\n",
    "## Analysis and Visualization\n",
    "For demonstration purpose: Data scraped before was saved in local directory but loaded from `./data/..`. Image is saved to local directory but loaded from `./img/..`\n",
    "1. Analysis of each hotel, without **review type**\n",
    "2. Analysis of each hotel, with **review type**\n",
    "3. Compare hotels"
   ]
  },
  {
   "cell_type": "code",
   "execution_count": null,
   "metadata": {},
   "outputs": [],
   "source": [
    "import bs4\n",
    "from bs4 import BeautifulSoup\n",
    "import requests\n",
    "import pandas as pd\n",
    "\n",
    "import hotel_extract as he\n",
    "import os\n",
    "from datetime import date\n",
    "\n",
    "today = date.today()\n",
    "print(\"Today's date:\", today)"
   ]
  },
  {
   "cell_type": "code",
   "execution_count": null,
   "metadata": {},
   "outputs": [],
   "source": [
    "# list of all hotel URL\n",
    "url = ['https://www.booking.com/hotel/sg/marina-bay-sands.html#tab-reviews', \n",
    "       'https://www.booking.com/hotel/sg/rasa-sentosa-resort-by-the-shangri-la.html#tab-reviews', \n",
    "       'https://www.booking.com/hotel/sg/panpacificsingapore.html#tab-reviews']"
   ]
  },
  {
   "cell_type": "markdown",
   "metadata": {},
   "source": [
    "# Data Scraping and Wrangling\n",
    "\n",
    "## Overall Ratings of All Hotels"
   ]
  },
  {
   "cell_type": "code",
   "execution_count": null,
   "metadata": {
    "scrolled": false
   },
   "outputs": [],
   "source": [
    "for URL in url:\n",
    "    resp = requests.get(URL)\n",
    "    assert resp.status_code==200, \"Request get URL unsuccessful.\"\n",
    "\n",
    "    soup = BeautifulSoup(resp.text)\n",
    "    \n",
    "    Hotel = soup.title.text.lstrip('\\n').rstrip('\\n').split('(')[0].split(',')[0].strip(' ')\n",
    "\n",
    "    print('You are viewing overal reviews for: '+Hotel)\n",
    "\n",
    "    #  `hotel_data = ['Hotel', 'URL', 'Reviews', 'Score', 'Staff', 'Cleanliness', 'Comfort', 'Value for money', 'Location', 'Free WiFi']\n",
    "    hotel_data = {'Hotel':Hotel}\n",
    "    hotel_data['URL'] = URL\n",
    "\n",
    "    overall_result = soup.find_all('span', {'class': 'review-score-widget__inline'})\n",
    "\n",
    "    hotel_data['Overal score'] = overall_result[0].find_all('span', {'class':'review-score-badge'})[0].text.lstrip('\\n').rstrip('\\n')\n",
    "\n",
    "    hotel_data['Reviews'] = overall_result[0].find_all('span', {'class':'review-score-widget__subtext'})[0].text.lstrip('\\n').rstrip(' reviews\\n')\n",
    "\n",
    "    ascore_result = soup.find_all('div', {'class': 'c-score-bar'})\n",
    "\n",
    "    for each_ascore_result in ascore_result:\n",
    "        name = each_ascore_result.find_all('span',{'class':'c-score-bar__title'})[0].text.replace(u'\\xa0', u' ').strip(' ')\n",
    "        value = each_ascore_result.find_all('span',{'class':'c-score-bar__score'})[0].text\n",
    "        hotel_data[name] = value\n",
    "\n",
    "    hotel_data['Last updated'] = today.strftime(\"%d/%m/%Y\")\n",
    "\n",
    "    # save all hotel_data to a single csv file\n",
    "    if os.path.isfile('./hotels.csv'):\n",
    "        df_hotels = pd.read_csv('./hotels.csv')\n",
    "        # check if hotel rating exists, update if not otherwise replace\n",
    "        if (df_hotels['Hotel']==hotel_data['Hotel']).any():\n",
    "            idx = df_hotels.loc[df_hotels['Hotel']==hotel_data['Hotel']].index\n",
    "            new_df = pd.DataFrame(hotel_data, index=idx)\n",
    "            df_hotels.update(new_df)\n",
    "        else:\n",
    "            df_hotels = df_hotels.append(pd.DataFrame(hotel_data, index=[0]), ignore_index=True)\n",
    "    else:\n",
    "        df_hotels = pd.DataFrame(hotel_data, index=[0])\n",
    "\n",
    "    df_hotels.to_csv('hotels.csv', index=False)\n",
    "    \n",
    "print(df_hotels)"
   ]
  },
  {
   "cell_type": "markdown",
   "metadata": {},
   "source": [
    "## Guest Review and Attributes for One Hotel"
   ]
  },
  {
   "cell_type": "code",
   "execution_count": null,
   "metadata": {},
   "outputs": [],
   "source": [
    "URL = url[0]\n",
    "Hotel = df_hotels.loc[0,'Hotel']\n",
    "print('You are scraping data from: '+Hotel)"
   ]
  },
  {
   "cell_type": "markdown",
   "metadata": {},
   "source": [
    "Note: we find that customer reivews are `client-side rendered`. - Selenium"
   ]
  },
  {
   "cell_type": "code",
   "execution_count": null,
   "metadata": {},
   "outputs": [],
   "source": [
    "cust_header = ['Name', 'Origin', 'RoomType', 'StayTime', 'ReviewTime','ReviewScore', 'Liked', 'Disliked']\n",
    "# The language of the last two may not be in English"
   ]
  },
  {
   "cell_type": "code",
   "execution_count": null,
   "metadata": {},
   "outputs": [],
   "source": [
    "# check whether hotel review document exists\n",
    "os.path.isfile('./'+Hotel+'.csv') "
   ]
  },
  {
   "cell_type": "code",
   "execution_count": null,
   "metadata": {},
   "outputs": [],
   "source": [
    "from selenium import webdriver\n",
    "from webdriver_manager.chrome import ChromeDriverManager\n",
    "from selenium.webdriver.common.by import By\n",
    "from selenium.webdriver.common.keys import Keys\n",
    "from selenium.webdriver.support import expected_conditions as EC\n",
    "from selenium.webdriver.support.wait import WebDriverWait\n",
    "\n",
    "import time\n",
    "\n",
    "# get an instance of web browser\n",
    "browser = webdriver.Chrome(ChromeDriverManager().install())\n",
    "browser.get(URL)\n",
    "# wait for 10 seconds before timeout\n",
    "wait = WebDriverWait(browser, 10)\n",
    "# wait until an element is present\n",
    "wait.until(EC.presence_of_element_located((By.CLASS_NAME, 'review_list')))\n",
    "# Received cookies and HTML\n",
    "cookies = browser.get_cookies()"
   ]
  },
  {
   "cell_type": "markdown",
   "metadata": {},
   "source": [
    "### Scrap Guest Review by Clicking Next Page"
   ]
  },
  {
   "cell_type": "code",
   "execution_count": null,
   "metadata": {
    "scrolled": false
   },
   "outputs": [],
   "source": [
    "Name = []\n",
    "Origin = []\n",
    "RoomType = []\n",
    "StayTime = []\n",
    "ReviewTime = []\n",
    "ReviewScore = []\n",
    "Liked = []\n",
    "Disliked = []\n",
    "page = 1\n",
    "sleeptime = 2\n",
    "\n",
    "while True:\n",
    "    time.sleep(sleeptime)\n",
    "    html = browser.page_source # restart from here at every time page next is clicked\n",
    "    soup = BeautifulSoup(html)\n",
    "    cust_result = soup.find_all('div', {'class': \"c-review-block\"})\n",
    "    \n",
    "    for each_cust_result in cust_result:\n",
    "        roominfo = each_cust_result.find_all('div',{'class':'c-review-block__room-info__name'})\n",
    "        good, bad = he.grab_comments(each_cust_result)\n",
    "        \n",
    "        Name.append(each_cust_result.find_all('span',{'class':'bui-avatar-block__title'})[0].text)\n",
    "        \n",
    "        # some origin information may be empty\n",
    "        origin_result = each_cust_result.find_all('span',{'class':'bui-avatar-block__subtitle'})\n",
    "        Origin.append(origin_result[0].text.lstrip('\\n') if bool(origin_result) else '')\n",
    "        RoomType.append(roominfo[0].text.split(':')[1].strip(' ').strip('\\n').split('\\n')[0] if bool(roominfo) else '')\n",
    "        \n",
    "        StayTime.append(roominfo[0].text.split(':')[1].strip(' ').strip('\\n').split('\\n')[-1] if bool(roominfo) else '')\n",
    "                \n",
    "        # Stay-in time comes with room type and may be unavailable for earlier guests\n",
    "        ReviewTime.append(each_cust_result.find_all('span', {'class':'c-review-block__date'})[0]\n",
    "                          .text.lstrip('\\n').rstrip('\\n').lstrip('Reviewed: '))        \n",
    "        ReviewScore.append(each_cust_result.find_all('div',{'class':'c-guest-with-score__score'})[0]\n",
    "                           .text.lstrip().rstrip('\\n').rstrip())\n",
    "        Liked.append(good)\n",
    "        Disliked.append(bad)\n",
    "\n",
    "    if page%50==0:\n",
    "        print(f'Page {page} onwards...')\n",
    "\n",
    "    try: # click next page\n",
    "        button_nextpage = browser.find_element_by_xpath(\n",
    "            '//*[@id=\"review_list_page_container\"]/div[4]/div/div[1]/div/div[3]/a') \n",
    "        button_nextpage.click()\n",
    "        page += 1\n",
    "    except:\n",
    "        print(f'Tried to press next button on page {page} and stopped.')\n",
    "        break"
   ]
  },
  {
   "cell_type": "code",
   "execution_count": null,
   "metadata": {},
   "outputs": [],
   "source": [
    "len(Name), len(Origin), len(RoomType), len(StayTime), len(ReviewTime), len(ReviewScore), len(Liked), len(Disliked)"
   ]
  },
  {
   "cell_type": "code",
   "execution_count": null,
   "metadata": {},
   "outputs": [],
   "source": [
    "df = pd.DataFrame({'Name':Name, 'Origin':Origin, 'RoomType':RoomType, 'StayTime':StayTime, 'ReviewTime':ReviewTime , 'ReviewScore':ReviewScore, 'Liked':Liked, 'Disliked':Disliked})\n",
    "df.to_csv(Hotel+'.csv', index=False)"
   ]
  },
  {
   "cell_type": "code",
   "execution_count": null,
   "metadata": {},
   "outputs": [],
   "source": [
    "# ## Check wether the page reach the ends, need to automate this process\n",
    "\n",
    "# # if stopped before the end of page\n",
    "# button_nextpage = browser.find_element_by_xpath(\n",
    "#             '//*[@id=\"review_list_page_container\"]/div[4]/div/div[1]/div/div[3]/a') \n",
    "# button_nextpage.click()\n",
    "# # page += 1\n",
    "\n",
    "# while True:\n",
    "#     time.sleep(sleeptime)\n",
    "#     html = browser.page_source # restart from here at every time page next is clicked\n",
    "#     soup = BeautifulSoup(html)\n",
    "#     cust_result = soup.find_all('div', {'class': \"c-review-block\"})\n",
    "    \n",
    "#     for each_cust_result in cust_result:\n",
    "#         roominfo = each_cust_result.find_all('div',{'class':'c-review-block__room-info__name'})\n",
    "#         good, bad = he.grab_comments(each_cust_result)\n",
    "        \n",
    "#         Name.append(each_cust_result.find_all('span',{'class':'bui-avatar-block__title'})[0].text)\n",
    "        \n",
    "#         # some origin information may be empty\n",
    "#         origin_result = each_cust_result.find_all('span',{'class':'bui-avatar-block__subtitle'})\n",
    "#         Origin.append(origin_result[0].text.lstrip('\\n') if bool(origin_result) else '')\n",
    "#         RoomType.append(roominfo[0].text.split(':')[1].strip(' ').strip('\\n').split('\\n')[0] if bool(roominfo) else '')\n",
    "        \n",
    "#         StayTime.append(roominfo[0].text.split(':')[1].strip(' ').strip('\\n').split('\\n')[-1] if bool(roominfo) else '')\n",
    "                \n",
    "#         # we use reviewed time instead of stay-in time as stay-in time comes with room type and may be unavailable for earlier guests\n",
    "#         ReviewTime.append(each_cust_result.find_all('span', {'class':'c-review-block__date'})[0].text.lstrip('\\n').rstrip('\\n').lstrip('Reviewed: '))        \n",
    "#         ReviewScore.append(each_cust_result.find_all('div',{'class':'c-guest-with-score__score'})[0].text.lstrip().rstrip('\\n').rstrip())\n",
    "#         Liked.append(good)\n",
    "#         Disliked.append(bad)\n",
    "\n",
    "#     if page%50==0:\n",
    "#         print(f'Page {page} onwards...')\n",
    "\n",
    "#     try: # click next page\n",
    "#         button_nextpage = browser.find_element_by_xpath('//*[@id=\"review_list_page_container\"]/div[4]/div/div[1]/div/div[3]/a') \n",
    "#         button_nextpage.click()\n",
    "#         page += 1\n",
    "#     except:\n",
    "#         print(f'Tried to press next button on page {page} and stopped.')\n",
    "#         break\n",
    "\n",
    "# df = pd.DataFrame({'Name':Name, 'Origin':Origin, 'RoomType':RoomType, 'StayTime':StayTime, 'ReviewTime':ReviewTime , 'ReviewScore':ReviewScore, 'Liked':Liked, 'Disliked':Disliked})\n",
    "# df.to_csv(Hotel+'.csv', index=False)"
   ]
  },
  {
   "cell_type": "code",
   "execution_count": null,
   "metadata": {},
   "outputs": [],
   "source": [
    "browser.close()"
   ]
  },
  {
   "cell_type": "markdown",
   "metadata": {},
   "source": [
    "## Guest Review and Attributes based on  <span style=\"color:blue\"><i>ReviewType</i></span>"
   ]
  },
  {
   "cell_type": "code",
   "execution_count": null,
   "metadata": {},
   "outputs": [],
   "source": [
    "ReviewTypeAll = ['Families', 'Couples', 'Groups', 'Solo', 'Business']"
   ]
  },
  {
   "cell_type": "code",
   "execution_count": null,
   "metadata": {},
   "outputs": [],
   "source": [
    "# from selenium import webdriver\n",
    "# from webdriver_manager.chrome import ChromeDriverManager\n",
    "# from selenium.webdriver.common.by import By\n",
    "# from selenium.webdriver.common.keys import Keys\n",
    "# from selenium.webdriver.support import expected_conditions as EC\n",
    "# from selenium.webdriver.support.wait import WebDriverWait\n",
    "\n",
    "# import time\n",
    "\n",
    "# get an instance of web browser\n",
    "browser = webdriver.Chrome(ChromeDriverManager().install())\n",
    "browser.get(URL)\n",
    "# wait for 10 seconds before timeout\n",
    "wait = WebDriverWait(browser, 10)\n",
    "# wait until an element is present\n",
    "wait.until(EC.presence_of_element_located((By.CLASS_NAME, 'review_list')))\n",
    "# Received cookies and HTML\n",
    "cookies = browser.get_cookies()"
   ]
  },
  {
   "cell_type": "code",
   "execution_count": null,
   "metadata": {},
   "outputs": [],
   "source": [
    "rt = browser.find_element_by_id('reviewer_type_filter')"
   ]
  },
  {
   "cell_type": "code",
   "execution_count": null,
   "metadata": {},
   "outputs": [],
   "source": [
    "cust_header = ['ReviewType', 'Name', 'Origin', 'RoomType', 'StayTime', 'ReviewTime', 'ReviewScore', 'Liked', 'Disliked']"
   ]
  },
  {
   "cell_type": "code",
   "execution_count": null,
   "metadata": {},
   "outputs": [],
   "source": [
    "Name = []\n",
    "Origin = []\n",
    "RoomType = []\n",
    "ReviewTime = []\n",
    "StayTime = []\n",
    "ReviewScore = []\n",
    "Liked = []\n",
    "Disliked = []\n",
    "ReviewType = []\n",
    "\n",
    "for option in rt.find_elements_by_tag_name('option'):\n",
    "    if option.text.split()[0] in ReviewTypeAll: # if ReviewType is one of the All\n",
    "        option.click() # select() in earlier versions of webdriver\n",
    "               \n",
    "        print('Collecting '+option.text.split()[-1].strip('()')+\n",
    "              ' reviews from TYPE: '+option.text.split()[0])\n",
    "        \n",
    "        page = 1\n",
    "        count = 0\n",
    "        '''\n",
    "        Below are the code blocks to extract\n",
    "        '''\n",
    "        while True:\n",
    "            time.sleep(sleeptime)\n",
    "            html = browser.page_source # restart from here at every time page next is clicked\n",
    "            soup = BeautifulSoup(html)\n",
    "            cust_result = soup.find_all('div', {'class': \"c-review-block\"})\n",
    "\n",
    "            for each_cust_result in cust_result:\n",
    "                ReviewType.append(option.text.split()[0])\n",
    "                \n",
    "                roominfo = each_cust_result.find_all('div',{'class':'c-review-block__room-info__name'})\n",
    "                good, bad = he.grab_comments(each_cust_result)\n",
    "\n",
    "                Name.append(each_cust_result.find_all('span',{'class':'bui-avatar-block__title'})[0].text)\n",
    "\n",
    "                # some origin information may be empty\n",
    "                origin_result = each_cust_result.find_all('span',{'class':'bui-avatar-block__subtitle'})\n",
    "                Origin.append(origin_result[0].text.lstrip('\\n') if bool(origin_result) else '')\n",
    "                RoomType.append(roominfo[0].text.split(':')[1].strip(' ').strip('\\n').split('\\n')[0] if bool(roominfo) else '')\n",
    "\n",
    "                StayTime.append(roominfo[0].text.split(':')[1].strip(' ').strip('\\n').split('\\n')[-1] if bool(roominfo) else '')\n",
    "                \n",
    "                # we use reviewed time instead of stay-in time as stay-in time comes with room type and may be unavailable for earlier guests\n",
    "                ReviewTime.append(each_cust_result.find_all('span', {'class':'c-review-block__date'})[0].text.lstrip('\\n').rstrip('\\n').lstrip('Reviewed: '))\n",
    "                ReviewScore.append(each_cust_result.find_all('div',{'class':'c-guest-with-score__score'})[0].text.lstrip().rstrip('\\n').rstrip())\n",
    "                Liked.append(good)\n",
    "                Disliked.append(bad)\n",
    "                \n",
    "            count += len(cust_result)\n",
    "\n",
    "            if page%100==0:\n",
    "                print(f'Page {page} onwards...')\n",
    "\n",
    "            try: # click next page\n",
    "                button_nextpage = browser.find_element_by_xpath('//*[@id=\"review_list_page_container\"]/div[4]/div/div[1]/div/div[3]/a') \n",
    "                button_nextpage.click()\n",
    "                page += 1\n",
    "            except:\n",
    "                print(f'Tried to press next button on page {page} and stopped.')\n",
    "                break\n",
    "        print(f'Collected {count} reviews from TYPE {option.text.split()[0]}')"
   ]
  },
  {
   "cell_type": "markdown",
   "metadata": {},
   "source": [
    "Actual listings are more than stated. Summing up all categories gets more than total. Duplicates appears in different Review Types"
   ]
  },
  {
   "cell_type": "code",
   "execution_count": null,
   "metadata": {},
   "outputs": [],
   "source": [
    "len(ReviewType), len(Name), len(Origin), len(RoomType), len(StayTime), len(ReviewTime), len(ReviewScore), len(Liked), len(Disliked)"
   ]
  },
  {
   "cell_type": "code",
   "execution_count": null,
   "metadata": {},
   "outputs": [],
   "source": [
    "df = pd.DataFrame({'ReviewType':ReviewType, 'Name':Name, 'Origin':Origin, 'RoomType':RoomType, \n",
    "                   'StayTime': StayTime, 'ReviewTime':ReviewTime, 'ReviewScore':ReviewScore, 'Liked':Liked, 'Disliked':Disliked})\n",
    "df.to_csv(Hotel+'-reviewtype.csv', index=False)"
   ]
  },
  {
   "cell_type": "code",
   "execution_count": null,
   "metadata": {},
   "outputs": [],
   "source": [
    "browser.close()"
   ]
  },
  {
   "cell_type": "markdown",
   "metadata": {},
   "source": [
    "# Analysis and Visualization"
   ]
  },
  {
   "cell_type": "code",
   "execution_count": null,
   "metadata": {},
   "outputs": [],
   "source": [
    "import numpy as np"
   ]
  },
  {
   "cell_type": "markdown",
   "metadata": {},
   "source": [
    "please note that the scaped data are saved to subfolder **./data/**"
   ]
  },
  {
   "cell_type": "markdown",
   "metadata": {},
   "source": [
    "## One Hotel (No <span style=\"color:blue\"><i>ReviewType</i></span>)"
   ]
  },
  {
   "cell_type": "code",
   "execution_count": null,
   "metadata": {},
   "outputs": [],
   "source": [
    "df = pd.read_csv('./data/'+Hotel+'.csv')"
   ]
  },
  {
   "cell_type": "markdown",
   "metadata": {},
   "source": [
    "### Review Score Distribution"
   ]
  },
  {
   "cell_type": "code",
   "execution_count": null,
   "metadata": {},
   "outputs": [],
   "source": [
    "bins = np.arange(0,11,.5)\n",
    "df['ReviewScore'].plot(kind='hist', bins=bins, figsize=(20,10), title=Hotel+': Guest Review Rating Distribution')"
   ]
  },
  {
   "cell_type": "markdown",
   "metadata": {},
   "source": [
    "### Ratings over Time"
   ]
  },
  {
   "cell_type": "code",
   "execution_count": null,
   "metadata": {},
   "outputs": [],
   "source": [
    "# As old comments does not have StayTime, we use ReviewTime if StayTime is empty\n",
    "df['Time'] = df['StayTime']\n",
    "df['Time'] = df['Time'].fillna(df['ReviewTime'])"
   ]
  },
  {
   "cell_type": "code",
   "execution_count": null,
   "metadata": {},
   "outputs": [],
   "source": [
    "# time string to time\n",
    "df['StayTime'] = pd.to_datetime(df['StayTime'], errors='coerce')\n",
    "df['ReviewTime'] = pd.to_datetime(df['ReviewTime'], errors='coerce')\n",
    "df['Time'] = pd.to_datetime(df['Time'], errors='coerce')\n",
    "df.info()"
   ]
  },
  {
   "cell_type": "code",
   "execution_count": null,
   "metadata": {},
   "outputs": [],
   "source": [
    "df.tail()"
   ]
  },
  {
   "cell_type": "code",
   "execution_count": null,
   "metadata": {},
   "outputs": [],
   "source": [
    "df = df.set_index('Time') # set time as index"
   ]
  },
  {
   "cell_type": "code",
   "execution_count": null,
   "metadata": {},
   "outputs": [],
   "source": [
    "df = df.sort_values(by=['Time']) # sort by time"
   ]
  },
  {
   "cell_type": "code",
   "execution_count": null,
   "metadata": {},
   "outputs": [],
   "source": [
    "df['Year'] = df.index.year\n",
    "df['Month'] = df.index.month\n",
    "df['Weekday'] = df.index.weekday\n",
    "df['monthyear'] = df.index.to_period('M') # display by month-year"
   ]
  },
  {
   "cell_type": "code",
   "execution_count": null,
   "metadata": {},
   "outputs": [],
   "source": [
    "df.head()"
   ]
  },
  {
   "cell_type": "code",
   "execution_count": null,
   "metadata": {},
   "outputs": [],
   "source": [
    "import seaborn as sns\n",
    "import matplotlib.pyplot as plt"
   ]
  },
  {
   "cell_type": "code",
   "execution_count": null,
   "metadata": {},
   "outputs": [],
   "source": [
    "fig = plt.figure(figsize=(16,8))\n",
    "sns.boxplot(data=df, x = 'monthyear', y = 'ReviewScore')\n",
    "plt.xticks(rotation=70)\n",
    "plt.title(Hotel+'; Review Scores over Time')\n",
    "plt.show()"
   ]
  },
  {
   "cell_type": "code",
   "execution_count": null,
   "metadata": {},
   "outputs": [],
   "source": [
    "df['monthyear'].value_counts().sort_values().sort_index().plot(kind='bar',figsize=(16.7, 8.27)) # count how many reviews in each monthyear"
   ]
  },
  {
   "cell_type": "markdown",
   "metadata": {},
   "source": [
    "### Pie chart for origin"
   ]
  },
  {
   "cell_type": "code",
   "execution_count": null,
   "metadata": {},
   "outputs": [],
   "source": [
    "df['Origin'].value_counts()[:20].plot(kind=\"pie\", figsize=(10,10), title=Hotel+': Top 20 countries')"
   ]
  },
  {
   "cell_type": "code",
   "execution_count": null,
   "metadata": {},
   "outputs": [],
   "source": [
    "### Room Type Pie Chart\n",
    "df['RoomType'].unique()"
   ]
  },
  {
   "cell_type": "code",
   "execution_count": null,
   "metadata": {},
   "outputs": [],
   "source": [
    "for index, row in df.iterrows():\n",
    "    if bool(row['RoomType']) and isinstance(row['RoomType'], str) :\n",
    "        test = row['RoomType'].split('(')[0].strip(' ').split('-') # remove brackets behind\n",
    "        if len(test)==1:\n",
    "            df.loc[index,'RoomType'] = test\n",
    "        elif len(test) == 2:\n",
    "            df.loc[index,'RoomType'] = test[1].strip(' ') if (test[0].strip(' ')=='Special Offer' or test[0].strip(' ')=='Special' or test[0].strip(' ')=='Festive Promo') else test[0].strip(' ')\n",
    "    else:\n",
    "        df.loc[index,'RoomType'] = ''"
   ]
  },
  {
   "cell_type": "code",
   "execution_count": null,
   "metadata": {},
   "outputs": [],
   "source": [
    "df['RoomType'].unique()"
   ]
  },
  {
   "cell_type": "code",
   "execution_count": null,
   "metadata": {},
   "outputs": [],
   "source": [
    "# we need to clean room type strings\n",
    "df['RoomType'].value_counts()[:10].plot(kind=\"pie\", figsize=(10,10), title=Hotel+': Top 10 RoomType')"
   ]
  },
  {
   "cell_type": "markdown",
   "metadata": {},
   "source": [
    "### `Word Cloud` - How guests comment"
   ]
  },
  {
   "cell_type": "code",
   "execution_count": null,
   "metadata": {},
   "outputs": [],
   "source": [
    "# Liked and Disliked word cloud\n",
    "from os import path\n",
    "from PIL import Image\n",
    "import os\n",
    "\n",
    "from wordcloud import WordCloud, STOPWORDS\n",
    "from langdetect import detect\n",
    "import re"
   ]
  },
  {
   "cell_type": "markdown",
   "metadata": {},
   "source": [
    "join all Liked/Disliked Reviews respectively, Choose only English"
   ]
  },
  {
   "cell_type": "code",
   "execution_count": null,
   "metadata": {},
   "outputs": [],
   "source": [
    "LikedAll = ''\n",
    "for index, row in df.iterrows():\n",
    "    if isinstance(row['Liked'], str):\n",
    "        resub = re.sub('\\W+',' ', row['Liked']) # remove weird characters.\n",
    "        if len(resub)>1 and 'en'==detect(resub):\n",
    "            LikedAll = LikedAll + ' ' + row['Liked']"
   ]
  },
  {
   "cell_type": "code",
   "execution_count": null,
   "metadata": {},
   "outputs": [],
   "source": [
    "DislikedAll = ''\n",
    "for index, row in df.iterrows():\n",
    "    if isinstance(row['Disliked'], str):\n",
    "        resub = re.sub('\\W+',' ', row['Disliked']) # remove weird characters.\n",
    "        try:\n",
    "            if len(resub)>1 and 'en'==detect(resub):\n",
    "                DislikedAll = DislikedAll + ' ' + row['Disliked']\n",
    "        except:\n",
    "            print(resub)"
   ]
  },
  {
   "cell_type": "code",
   "execution_count": null,
   "metadata": {},
   "outputs": [],
   "source": [
    "DislikedAll"
   ]
  },
  {
   "cell_type": "code",
   "execution_count": null,
   "metadata": {},
   "outputs": [],
   "source": [
    "STOPWORDS"
   ]
  },
  {
   "cell_type": "code",
   "execution_count": null,
   "metadata": {},
   "outputs": [],
   "source": [
    "# count the unique words and put some input stopwords if not in stopwords"
   ]
  },
  {
   "cell_type": "code",
   "execution_count": null,
   "metadata": {},
   "outputs": [],
   "source": [
    "stopwords = set(STOPWORDS)\n",
    "stopwords.add(\"said\")\n",
    "stopwords.add(\"hotel\")\n",
    "stopwords.add(\"day\")\n",
    "stopwords.add(\"really\")\n",
    "stopwords.add(\"much\")\n",
    "\n",
    "try:\n",
    "    mbs_mask = np.array(Image.open(f'{Hotel}_mask.png'))\n",
    "    wc = WordCloud(background_color=\"white\", max_words=2000, mask=mbs_mask,\n",
    "               stopwords=stopwords, contour_width=3, contour_color='steelblue')\n",
    "except:\n",
    "    wc = WordCloud(background_color=\"white\", max_words=2000, stopwords=stopwords, contour_width=3)\n",
    "\n",
    "\n",
    "# 1. generate word cloud for all Liked\n",
    "wc.generate(LikedAll)\n",
    "\n",
    "# store to file\n",
    "wc.to_file(Hotel+'_Liked.png')\n",
    "\n",
    "# show\n",
    "plt.figure(figsize=(30,15)) \n",
    "plt.imshow(wc, interpolation='bilinear')\n",
    "plt.axis(\"off\")\n",
    "plt.show()\n",
    "\n",
    "# 2. generate word cloud for all Disliked\n",
    "wc = WordCloud(background_color=\"black\", max_words=2000, stopwords=stopwords, contour_width=3)\n",
    "\n",
    "\n",
    "wc.generate(DislikedAll)\n",
    "\n",
    "# store to file\n",
    "wc.to_file(Hotel+'_Disliked.png')\n",
    "\n",
    "# show\n",
    "plt.figure(figsize=(20,10)) \n",
    "plt.imshow(wc, interpolation='bilinear')\n",
    "plt.axis(\"off\")\n",
    "plt.show()"
   ]
  },
  {
   "cell_type": "markdown",
   "metadata": {},
   "source": [
    "## One Hotel (with Additional Category  <span style=\"color:blue\"><i>ReviewType</i></span>)"
   ]
  },
  {
   "cell_type": "code",
   "execution_count": null,
   "metadata": {},
   "outputs": [],
   "source": [
    "df = pd.read_csv('./data/'+Hotel+'-reviewtype.csv')"
   ]
  },
  {
   "cell_type": "code",
   "execution_count": null,
   "metadata": {},
   "outputs": [],
   "source": [
    "# pie plot to count the portion\n",
    "df['ReviewType'].value_counts().plot(kind='pie', figsize=(10,10), title=Hotel+': Review Type Counts')"
   ]
  },
  {
   "cell_type": "code",
   "execution_count": null,
   "metadata": {},
   "outputs": [],
   "source": [
    "fig = plt.figure(figsize=(16,8))\n",
    "sns.boxplot(data=df, x = 'ReviewType', y = 'ReviewScore')\n",
    "# plt.xticks(rotation=70)\n",
    "plt.show()"
   ]
  },
  {
   "cell_type": "markdown",
   "metadata": {},
   "source": [
    "## Comparing Hotels"
   ]
  },
  {
   "cell_type": "code",
   "execution_count": null,
   "metadata": {},
   "outputs": [],
   "source": [
    "df_hotels = pd.read_csv('./data/hotels.csv')\n",
    "df_hotels = df_hotels.set_index(['Hotel'])\n",
    "df_hotels"
   ]
  },
  {
   "cell_type": "code",
   "execution_count": null,
   "metadata": {},
   "outputs": [],
   "source": [
    "ax = df_hotels.T.drop(['URL','Reviews','Last updated']).plot.bar(figsize=(14,6))"
   ]
  },
  {
   "cell_type": "code",
   "execution_count": null,
   "metadata": {},
   "outputs": [],
   "source": [
    "# Review Type Comparison"
   ]
  },
  {
   "cell_type": "code",
   "execution_count": null,
   "metadata": {},
   "outputs": [],
   "source": [
    "df_rt = []\n",
    "df_o = []\n",
    "df_rs = []\n",
    "df_means = []\n",
    "for hotel in df_hotels.index:\n",
    "    df = pd.read_csv('./data/'+hotel+'-reviewtype.csv')\n",
    "    df_rs.append(df['ReviewScore'].rename(hotel))\n",
    "    df_rt.append(df['ReviewType'].value_counts().rename(hotel))\n",
    "    df_o.append(df['Origin'].value_counts()[:5].rename(hotel))\n",
    "    df_means.append(df.groupby('ReviewType').mean().rename(columns={'ReviewScore':hotel}, inplace=False))"
   ]
  },
  {
   "cell_type": "code",
   "execution_count": null,
   "metadata": {},
   "outputs": [],
   "source": [
    "df_means"
   ]
  },
  {
   "cell_type": "code",
   "execution_count": null,
   "metadata": {},
   "outputs": [],
   "source": [
    "pd.concat(df_means, axis=1).plot.bar(figsize=(14,6), title='Mean Review Score in each Review Type')"
   ]
  },
  {
   "cell_type": "code",
   "execution_count": null,
   "metadata": {},
   "outputs": [],
   "source": [
    "pd.concat(df_rt, axis=1).plot.pie(subplots=True, figsize=(16,16))"
   ]
  },
  {
   "cell_type": "code",
   "execution_count": null,
   "metadata": {},
   "outputs": [],
   "source": [
    "from IPython.display import Image\n",
    "Image(\"./img/Shangri-La's Rasa Sentosa Resort & Spa_Liked.png\", width= 1000)"
   ]
  },
  {
   "cell_type": "code",
   "execution_count": null,
   "metadata": {},
   "outputs": [],
   "source": [
    "ax = pd.concat(df_rs, axis=1).plot.density(figsize=(16,8), xlim=(0,11),title='Review Score Distribution')"
   ]
  },
  {
   "cell_type": "code",
   "execution_count": null,
   "metadata": {},
   "outputs": [],
   "source": [
    "pd.concat(df_o, axis=1).plot.pie(subplots=True, figsize=(16,16))"
   ]
  }
 ],
 "metadata": {
  "kernelspec": {
   "display_name": "Python 3",
   "language": "python",
   "name": "python3"
  },
  "language_info": {
   "codemirror_mode": {
    "name": "ipython",
    "version": 3
   },
   "file_extension": ".py",
   "mimetype": "text/x-python",
   "name": "python",
   "nbconvert_exporter": "python",
   "pygments_lexer": "ipython3",
   "version": "3.8.3"
  },
  "toc": {
   "base_numbering": 1,
   "nav_menu": {},
   "number_sections": true,
   "sideBar": true,
   "skip_h1_title": false,
   "title_cell": "Table of Contents",
   "title_sidebar": "Contents",
   "toc_cell": false,
   "toc_position": {
    "height": "calc(100% - 180px)",
    "left": "10px",
    "top": "150px",
    "width": "307.2px"
   },
   "toc_section_display": true,
   "toc_window_display": true
  }
 },
 "nbformat": 4,
 "nbformat_minor": 4
}
